{
 "cells": [
  {
   "cell_type": "markdown",
   "metadata": {},
   "source": [
    "# Linked list"
   ]
  },
  {
   "cell_type": "code",
   "execution_count": 1,
   "metadata": {},
   "outputs": [],
   "source": [
    "class List_Node:\n",
    "    def __init__(self,data):\n",
    "        self.data = data\n",
    "        self.next = None\n",
    "    \n",
    "    def value(self):\n",
    "        print(self.data)"
   ]
  },
  {
   "cell_type": "code",
   "execution_count": 15,
   "metadata": {},
   "outputs": [],
   "source": [
    "class Linked_List:\n",
    "    def __init__(self,head):\n",
    "        self.head = head\n",
    "    \n",
    "    #traversing the linked list\n",
    "    def print_values(self):\n",
    "        val = self.head\n",
    "        while val is not None:\n",
    "            val.value()\n",
    "            val = val.next\n",
    "    \n",
    "    #inserting values in the linked list\n",
    "    def insert(self,data):\n",
    "        val = self.head\n",
    "        while val is not None:\n",
    "            if val.next is None:\n",
    "                val.next = List_Node(data)\n",
    "                break\n",
    "            else:\n",
    "                val = val.next\n",
    "    \n",
    "    #delete values from the list\n",
    "    def delete(self,data):\n",
    "        val = self.head\n",
    "        val2 = self.head.next\n",
    "        while val2 is not None:\n",
    "            if val2.data == data:\n",
    "                val.next = val2.next\n",
    "                break\n",
    "            val = val.next\n",
    "            val2 = val2.next\n",
    "        if self.head.data == data:\n",
    "            self.head = self.head.next\n",
    "                "
   ]
  },
  {
   "cell_type": "code",
   "execution_count": 16,
   "metadata": {},
   "outputs": [],
   "source": [
    "listado = Linked_List(List_Node('Monday'))\n",
    "listado.insert('tuesday')\n",
    "listado.insert('tuesday')\n",
    "listado.insert('wednesday')\n",
    "listado.insert('thursday')\n",
    "listado.insert('friday')\n",
    "listado.insert('saturday')\n",
    "listado.insert('sunday')"
   ]
  },
  {
   "cell_type": "code",
   "execution_count": 17,
   "metadata": {},
   "outputs": [
    {
     "name": "stdout",
     "output_type": "stream",
     "text": [
      "Monday\n",
      "tuesday\n",
      "tuesday\n",
      "wednesday\n",
      "thursday\n",
      "friday\n",
      "saturday\n",
      "sunday\n"
     ]
    }
   ],
   "source": [
    "listado.print_values()"
   ]
  },
  {
   "cell_type": "code",
   "execution_count": 18,
   "metadata": {},
   "outputs": [],
   "source": [
    "listado.delete('tuesday')"
   ]
  },
  {
   "cell_type": "code",
   "execution_count": 19,
   "metadata": {},
   "outputs": [
    {
     "name": "stdout",
     "output_type": "stream",
     "text": [
      "Monday\n",
      "tuesday\n",
      "wednesday\n",
      "thursday\n",
      "friday\n",
      "saturday\n",
      "sunday\n"
     ]
    }
   ],
   "source": [
    "listado.print_values()"
   ]
  },
  {
   "cell_type": "markdown",
   "metadata": {},
   "source": [
    "# binary tree"
   ]
  },
  {
   "cell_type": "code",
   "execution_count": 21,
   "metadata": {},
   "outputs": [],
   "source": [
    "class Node:\n",
    "    def __init__(self,data):\n",
    "        self.data = data\n",
    "        self.left = None\n",
    "        self.right = None\n",
    "    #knowing the value of the current node\n",
    "    def print_node(self):\n",
    "        print(self.data)\n",
    "    #inserting values to the tree\n",
    "    def insert(self,data):\n",
    "        if self.data:\n",
    "            if data < self.data:\n",
    "                if self.left is None:\n",
    "                    self.left = Node(data)\n",
    "                else:\n",
    "                    self.left.insert(data)\n",
    "            elif data > self.data:\n",
    "                if self.right is None:\n",
    "                    self.right = Node(data)\n",
    "                else:\n",
    "                    self.right.insert(data)\n",
    "        else:\n",
    "            self.data = data\n",
    "    \n",
    "    #printing a tree in ascending order\n",
    "    def print_tree_left(self):\n",
    "        if self.left:\n",
    "            self.left.print_tree_left()\n",
    "        print(self.data)\n",
    "        if self.right:\n",
    "            self.right.print_tree_left()\n",
    "    \n",
    "    #printing a tree in descending order\n",
    "    def print_tree_right(self):\n",
    "        if self.right:\n",
    "            self.right.print_tree_right()\n",
    "        print(self.data)\n",
    "        if self.left:\n",
    "            self.left.print_tree_right()"
   ]
  },
  {
   "cell_type": "code",
   "execution_count": 22,
   "metadata": {},
   "outputs": [],
   "source": [
    "root = Node(10)"
   ]
  },
  {
   "cell_type": "code",
   "execution_count": 23,
   "metadata": {},
   "outputs": [
    {
     "name": "stdout",
     "output_type": "stream",
     "text": [
      "10\n"
     ]
    }
   ],
   "source": [
    "root.print_node()"
   ]
  },
  {
   "cell_type": "code",
   "execution_count": 24,
   "metadata": {},
   "outputs": [],
   "source": [
    "root.insert(12)\n",
    "root.insert(30)\n",
    "root.insert(5)\n",
    "root.insert(8)"
   ]
  },
  {
   "cell_type": "code",
   "execution_count": 25,
   "metadata": {},
   "outputs": [
    {
     "name": "stdout",
     "output_type": "stream",
     "text": [
      "30\n",
      "12\n",
      "10\n",
      "8\n",
      "5\n"
     ]
    }
   ],
   "source": [
    "root.print_tree_right()\n"
   ]
  },
  {
   "cell_type": "code",
   "execution_count": 26,
   "metadata": {},
   "outputs": [
    {
     "name": "stdout",
     "output_type": "stream",
     "text": [
      "5\n",
      "8\n",
      "10\n",
      "12\n",
      "30\n"
     ]
    }
   ],
   "source": [
    "root.print_tree_left()"
   ]
  },
  {
   "cell_type": "code",
   "execution_count": 27,
   "metadata": {},
   "outputs": [
    {
     "data": {
      "text/plain": [
       "'C:\\\\Users\\\\ediso\\\\Documents\\\\Programs\\\\pandas dataframes'"
      ]
     },
     "execution_count": 27,
     "metadata": {},
     "output_type": "execute_result"
    }
   ],
   "source": [
    "import os\n",
    "os.getcwd()"
   ]
  },
  {
   "cell_type": "code",
   "execution_count": null,
   "metadata": {},
   "outputs": [],
   "source": []
  }
 ],
 "metadata": {
  "kernelspec": {
   "display_name": "Python 3",
   "language": "python",
   "name": "python3"
  },
  "language_info": {
   "codemirror_mode": {
    "name": "ipython",
    "version": 3
   },
   "file_extension": ".py",
   "mimetype": "text/x-python",
   "name": "python",
   "nbconvert_exporter": "python",
   "pygments_lexer": "ipython3",
   "version": "3.8.3"
  }
 },
 "nbformat": 4,
 "nbformat_minor": 4
}
