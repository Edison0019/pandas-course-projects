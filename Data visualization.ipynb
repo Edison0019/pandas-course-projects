{
 "cells": [
  {
   "cell_type": "code",
   "execution_count": 5,
   "metadata": {},
   "outputs": [],
   "source": [
    "import pandas as pd\n",
    "from pandas_datareader import data\n",
    "import matplotlib.pyplot as plt\n",
    "%matplotlib inline"
   ]
  },
  {
   "cell_type": "code",
   "execution_count": 15,
   "metadata": {},
   "outputs": [],
   "source": [
    "bb = data.DataReader(name='BB',data_source='yahoo',start='2010-1-1',end='2020-9-12')"
   ]
  },
  {
   "cell_type": "code",
   "execution_count": 18,
   "metadata": {},
   "outputs": [
    {
     "data": {
      "text/plain": [
       "16152"
      ]
     },
     "execution_count": 18,
     "metadata": {},
     "output_type": "execute_result"
    }
   ],
   "source": [
    "bb.size"
   ]
  },
  {
   "cell_type": "code",
   "execution_count": 19,
   "metadata": {},
   "outputs": [
    {
     "data": {
      "text/html": [
       "<div>\n",
       "<style scoped>\n",
       "    .dataframe tbody tr th:only-of-type {\n",
       "        vertical-align: middle;\n",
       "    }\n",
       "\n",
       "    .dataframe tbody tr th {\n",
       "        vertical-align: top;\n",
       "    }\n",
       "\n",
       "    .dataframe thead th {\n",
       "        text-align: right;\n",
       "    }\n",
       "</style>\n",
       "<table border=\"1\" class=\"dataframe\">\n",
       "  <thead>\n",
       "    <tr style=\"text-align: right;\">\n",
       "      <th></th>\n",
       "      <th>High</th>\n",
       "      <th>Low</th>\n",
       "      <th>Open</th>\n",
       "      <th>Close</th>\n",
       "      <th>Volume</th>\n",
       "      <th>Adj Close</th>\n",
       "    </tr>\n",
       "    <tr>\n",
       "      <th>Date</th>\n",
       "      <th></th>\n",
       "      <th></th>\n",
       "      <th></th>\n",
       "      <th></th>\n",
       "      <th></th>\n",
       "      <th></th>\n",
       "    </tr>\n",
       "  </thead>\n",
       "  <tbody>\n",
       "    <tr>\n",
       "      <th>2010-01-04</th>\n",
       "      <td>68.230003</td>\n",
       "      <td>65.639999</td>\n",
       "      <td>68.160004</td>\n",
       "      <td>65.930000</td>\n",
       "      <td>20035800</td>\n",
       "      <td>65.930000</td>\n",
       "    </tr>\n",
       "    <tr>\n",
       "      <th>2010-01-05</th>\n",
       "      <td>67.169998</td>\n",
       "      <td>64.930000</td>\n",
       "      <td>66.959999</td>\n",
       "      <td>65.800003</td>\n",
       "      <td>22082200</td>\n",
       "      <td>65.800003</td>\n",
       "    </tr>\n",
       "    <tr>\n",
       "      <th>2010-01-06</th>\n",
       "      <td>65.809998</td>\n",
       "      <td>64.400002</td>\n",
       "      <td>65.730003</td>\n",
       "      <td>65.400002</td>\n",
       "      <td>16697900</td>\n",
       "      <td>65.400002</td>\n",
       "    </tr>\n",
       "    <tr>\n",
       "      <th>2010-01-07</th>\n",
       "      <td>66.260002</td>\n",
       "      <td>64.940002</td>\n",
       "      <td>65.389999</td>\n",
       "      <td>65.300003</td>\n",
       "      <td>11302000</td>\n",
       "      <td>65.300003</td>\n",
       "    </tr>\n",
       "    <tr>\n",
       "      <th>2010-01-08</th>\n",
       "      <td>65.849998</td>\n",
       "      <td>64.860001</td>\n",
       "      <td>65.059998</td>\n",
       "      <td>65.459999</td>\n",
       "      <td>10639100</td>\n",
       "      <td>65.459999</td>\n",
       "    </tr>\n",
       "    <tr>\n",
       "      <th>...</th>\n",
       "      <td>...</td>\n",
       "      <td>...</td>\n",
       "      <td>...</td>\n",
       "      <td>...</td>\n",
       "      <td>...</td>\n",
       "      <td>...</td>\n",
       "    </tr>\n",
       "    <tr>\n",
       "      <th>2020-09-04</th>\n",
       "      <td>5.200000</td>\n",
       "      <td>4.870000</td>\n",
       "      <td>5.070000</td>\n",
       "      <td>5.110000</td>\n",
       "      <td>5839600</td>\n",
       "      <td>5.110000</td>\n",
       "    </tr>\n",
       "    <tr>\n",
       "      <th>2020-09-08</th>\n",
       "      <td>5.100000</td>\n",
       "      <td>4.910000</td>\n",
       "      <td>4.940000</td>\n",
       "      <td>4.930000</td>\n",
       "      <td>3747400</td>\n",
       "      <td>4.930000</td>\n",
       "    </tr>\n",
       "    <tr>\n",
       "      <th>2020-09-09</th>\n",
       "      <td>5.060000</td>\n",
       "      <td>4.910000</td>\n",
       "      <td>5.030000</td>\n",
       "      <td>4.920000</td>\n",
       "      <td>3597600</td>\n",
       "      <td>4.920000</td>\n",
       "    </tr>\n",
       "    <tr>\n",
       "      <th>2020-09-10</th>\n",
       "      <td>4.980000</td>\n",
       "      <td>4.790000</td>\n",
       "      <td>4.960000</td>\n",
       "      <td>4.800000</td>\n",
       "      <td>3545900</td>\n",
       "      <td>4.800000</td>\n",
       "    </tr>\n",
       "    <tr>\n",
       "      <th>2020-09-11</th>\n",
       "      <td>4.870000</td>\n",
       "      <td>4.680000</td>\n",
       "      <td>4.860000</td>\n",
       "      <td>4.750000</td>\n",
       "      <td>3689900</td>\n",
       "      <td>4.750000</td>\n",
       "    </tr>\n",
       "  </tbody>\n",
       "</table>\n",
       "<p>2692 rows × 6 columns</p>\n",
       "</div>"
      ],
      "text/plain": [
       "                 High        Low       Open      Close    Volume  Adj Close\n",
       "Date                                                                       \n",
       "2010-01-04  68.230003  65.639999  68.160004  65.930000  20035800  65.930000\n",
       "2010-01-05  67.169998  64.930000  66.959999  65.800003  22082200  65.800003\n",
       "2010-01-06  65.809998  64.400002  65.730003  65.400002  16697900  65.400002\n",
       "2010-01-07  66.260002  64.940002  65.389999  65.300003  11302000  65.300003\n",
       "2010-01-08  65.849998  64.860001  65.059998  65.459999  10639100  65.459999\n",
       "...               ...        ...        ...        ...       ...        ...\n",
       "2020-09-04   5.200000   4.870000   5.070000   5.110000   5839600   5.110000\n",
       "2020-09-08   5.100000   4.910000   4.940000   4.930000   3747400   4.930000\n",
       "2020-09-09   5.060000   4.910000   5.030000   4.920000   3597600   4.920000\n",
       "2020-09-10   4.980000   4.790000   4.960000   4.800000   3545900   4.800000\n",
       "2020-09-11   4.870000   4.680000   4.860000   4.750000   3689900   4.750000\n",
       "\n",
       "[2692 rows x 6 columns]"
      ]
     },
     "execution_count": 19,
     "metadata": {},
     "output_type": "execute_result"
    }
   ],
   "source": [
    "bb"
   ]
  },
  {
   "cell_type": "code",
   "execution_count": 22,
   "metadata": {},
   "outputs": [
    {
     "data": {
      "text/plain": [
       "<AxesSubplot:xlabel='Date'>"
      ]
     },
     "execution_count": 22,
     "metadata": {},
     "output_type": "execute_result"
    },
    {
     "data": {
      "image/png": "[encoded data removed]",
      "text/plain": [
       "<Figure size 432x288 with 1 Axes>"
      ]
     },
     "metadata": {
      "needs_background": "light"
     },
     "output_type": "display_data"
    }
   ],
   "source": [
    "bb.plot(y=['High','Close'])"
   ]
  },
  {
   "cell_type": "markdown",
   "metadata": {},
   "source": [
    "# modifying the plots appearance"
   ]
  },
  {
   "cell_type": "code",
   "execution_count": 23,
   "metadata": {},
   "outputs": [
    {
     "data": {
      "text/plain": [
       "['Solarize_Light2',\n",
       " '_classic_test_patch',\n",
       " 'bmh',\n",
       " 'classic',\n",
       " 'dark_background',\n",
       " 'fast',\n",
       " 'fivethirtyeight',\n",
       " 'ggplot',\n",
       " 'grayscale',\n",
       " 'seaborn',\n",
       " 'seaborn-bright',\n",
       " 'seaborn-colorblind',\n",
       " 'seaborn-dark',\n",
       " 'seaborn-dark-palette',\n",
       " 'seaborn-darkgrid',\n",
       " 'seaborn-deep',\n",
       " 'seaborn-muted',\n",
       " 'seaborn-notebook',\n",
       " 'seaborn-paper',\n",
       " 'seaborn-pastel',\n",
       " 'seaborn-poster',\n",
       " 'seaborn-talk',\n",
       " 'seaborn-ticks',\n",
       " 'seaborn-white',\n",
       " 'seaborn-whitegrid',\n",
       " 'tableau-colorblind10']"
      ]
     },
     "execution_count": 23,
     "metadata": {},
     "output_type": "execute_result"
    }
   ],
   "source": [
    "plt.style.available"
   ]
  },
  {
   "cell_type": "code",
   "execution_count": 24,
   "metadata": {},
   "outputs": [],
   "source": [
    "plt.style.use('fivethirtyeight')"
   ]
  },
  {
   "cell_type": "code",
   "execution_count": 26,
   "metadata": {},
   "outputs": [
    {
     "data": {
      "text/plain": [
       "<AxesSubplot:xlabel='Date'>"
      ]
     },
     "execution_count": 26,
     "metadata": {},
     "output_type": "execute_result"
    },
    {
     "data": {
      "image/png": "[encoded data removed]",
      "text/plain": [
       "<Figure size 432x288 with 1 Axes>"
      ]
     },
     "metadata": {},
     "output_type": "display_data"
    }
   ],
   "source": [
    "bb.plot(y=['High'])"
   ]
  },
  {
   "cell_type": "code",
   "execution_count": 27,
   "metadata": {},
   "outputs": [],
   "source": [
    "plt.style.use('dark_background')"
   ]
  },
  {
   "cell_type": "code",
   "execution_count": 28,
   "metadata": {},
   "outputs": [
    {
     "data": {
      "text/plain": [
       "<AxesSubplot:xlabel='Date'>"
      ]
     },
     "execution_count": 28,
     "metadata": {},
     "output_type": "execute_result"
    },
    {
     "data": {
      "image/png": "[encoded data removed]",
      "text/plain": [
       "<Figure size 432x288 with 1 Axes>"
      ]
     },
     "metadata": {},
     "output_type": "display_data"
    }
   ],
   "source": [
    "bb.plot(y=['High'])"
   ]
  },
  {
   "cell_type": "code",
   "execution_count": 29,
   "metadata": {},
   "outputs": [],
   "source": [
    "plt.style.use('ggplot')"
   ]
  },
  {
   "cell_type": "code",
   "execution_count": 30,
   "metadata": {},
   "outputs": [
    {
     "data": {
      "text/plain": [
       "<AxesSubplot:xlabel='Date'>"
      ]
     },
     "execution_count": 30,
     "metadata": {},
     "output_type": "execute_result"
    },
    {
     "data": {
      "image/png": "[encoded data removed]",
      "text/plain": [
       "<Figure size 432x288 with 1 Axes>"
      ]
     },
     "metadata": {},
     "output_type": "display_data"
    }
   ],
   "source": [
    "bb.plot(y=['High'])"
   ]
  },
  {
   "cell_type": "markdown",
   "metadata": {},
   "source": [
    "# bar graph"
   ]
  },
  {
   "cell_type": "code",
   "execution_count": 35,
   "metadata": {},
   "outputs": [],
   "source": [
    "# this is a simple formula for categorizing data\n",
    "def rank_performace(stock_price):\n",
    "    if stock_price <= 10:\n",
    "        return \"Poor\"\n",
    "    elif stock_price <= 50:\n",
    "        return \"Satisfactory\"\n",
    "    else:\n",
    "        return \"Stellar\""
   ]
  },
  {
   "cell_type": "code",
   "execution_count": 36,
   "metadata": {},
   "outputs": [],
   "source": [
    "bb['Label'] = bb['Low'].apply(rank_performace)"
   ]
  },
  {
   "cell_type": "code",
   "execution_count": 37,
   "metadata": {},
   "outputs": [
    {
     "data": {
      "text/html": [
       "<div>\n",
       "<style scoped>\n",
       "    .dataframe tbody tr th:only-of-type {\n",
       "        vertical-align: middle;\n",
       "    }\n",
       "\n",
       "    .dataframe tbody tr th {\n",
       "        vertical-align: top;\n",
       "    }\n",
       "\n",
       "    .dataframe thead th {\n",
       "        text-align: right;\n",
       "    }\n",
       "</style>\n",
       "<table border=\"1\" class=\"dataframe\">\n",
       "  <thead>\n",
       "    <tr style=\"text-align: right;\">\n",
       "      <th></th>\n",
       "      <th>High</th>\n",
       "      <th>Low</th>\n",
       "      <th>Open</th>\n",
       "      <th>Close</th>\n",
       "      <th>Volume</th>\n",
       "      <th>Adj Close</th>\n",
       "      <th>Label</th>\n",
       "    </tr>\n",
       "    <tr>\n",
       "      <th>Date</th>\n",
       "      <th></th>\n",
       "      <th></th>\n",
       "      <th></th>\n",
       "      <th></th>\n",
       "      <th></th>\n",
       "      <th></th>\n",
       "      <th></th>\n",
       "    </tr>\n",
       "  </thead>\n",
       "  <tbody>\n",
       "    <tr>\n",
       "      <th>2010-01-04</th>\n",
       "      <td>68.230003</td>\n",
       "      <td>65.639999</td>\n",
       "      <td>68.160004</td>\n",
       "      <td>65.930000</td>\n",
       "      <td>20035800</td>\n",
       "      <td>65.930000</td>\n",
       "      <td>Stellar</td>\n",
       "    </tr>\n",
       "    <tr>\n",
       "      <th>2010-01-05</th>\n",
       "      <td>67.169998</td>\n",
       "      <td>64.930000</td>\n",
       "      <td>66.959999</td>\n",
       "      <td>65.800003</td>\n",
       "      <td>22082200</td>\n",
       "      <td>65.800003</td>\n",
       "      <td>Stellar</td>\n",
       "    </tr>\n",
       "    <tr>\n",
       "      <th>2010-01-06</th>\n",
       "      <td>65.809998</td>\n",
       "      <td>64.400002</td>\n",
       "      <td>65.730003</td>\n",
       "      <td>65.400002</td>\n",
       "      <td>16697900</td>\n",
       "      <td>65.400002</td>\n",
       "      <td>Stellar</td>\n",
       "    </tr>\n",
       "    <tr>\n",
       "      <th>2010-01-07</th>\n",
       "      <td>66.260002</td>\n",
       "      <td>64.940002</td>\n",
       "      <td>65.389999</td>\n",
       "      <td>65.300003</td>\n",
       "      <td>11302000</td>\n",
       "      <td>65.300003</td>\n",
       "      <td>Stellar</td>\n",
       "    </tr>\n",
       "    <tr>\n",
       "      <th>2010-01-08</th>\n",
       "      <td>65.849998</td>\n",
       "      <td>64.860001</td>\n",
       "      <td>65.059998</td>\n",
       "      <td>65.459999</td>\n",
       "      <td>10639100</td>\n",
       "      <td>65.459999</td>\n",
       "      <td>Stellar</td>\n",
       "    </tr>\n",
       "    <tr>\n",
       "      <th>...</th>\n",
       "      <td>...</td>\n",
       "      <td>...</td>\n",
       "      <td>...</td>\n",
       "      <td>...</td>\n",
       "      <td>...</td>\n",
       "      <td>...</td>\n",
       "      <td>...</td>\n",
       "    </tr>\n",
       "    <tr>\n",
       "      <th>2020-09-04</th>\n",
       "      <td>5.200000</td>\n",
       "      <td>4.870000</td>\n",
       "      <td>5.070000</td>\n",
       "      <td>5.110000</td>\n",
       "      <td>5839600</td>\n",
       "      <td>5.110000</td>\n",
       "      <td>Poor</td>\n",
       "    </tr>\n",
       "    <tr>\n",
       "      <th>2020-09-08</th>\n",
       "      <td>5.100000</td>\n",
       "      <td>4.910000</td>\n",
       "      <td>4.940000</td>\n",
       "      <td>4.930000</td>\n",
       "      <td>3747400</td>\n",
       "      <td>4.930000</td>\n",
       "      <td>Poor</td>\n",
       "    </tr>\n",
       "    <tr>\n",
       "      <th>2020-09-09</th>\n",
       "      <td>5.060000</td>\n",
       "      <td>4.910000</td>\n",
       "      <td>5.030000</td>\n",
       "      <td>4.920000</td>\n",
       "      <td>3597600</td>\n",
       "      <td>4.920000</td>\n",
       "      <td>Poor</td>\n",
       "    </tr>\n",
       "    <tr>\n",
       "      <th>2020-09-10</th>\n",
       "      <td>4.980000</td>\n",
       "      <td>4.790000</td>\n",
       "      <td>4.960000</td>\n",
       "      <td>4.800000</td>\n",
       "      <td>3545900</td>\n",
       "      <td>4.800000</td>\n",
       "      <td>Poor</td>\n",
       "    </tr>\n",
       "    <tr>\n",
       "      <th>2020-09-11</th>\n",
       "      <td>4.870000</td>\n",
       "      <td>4.680000</td>\n",
       "      <td>4.860000</td>\n",
       "      <td>4.750000</td>\n",
       "      <td>3689900</td>\n",
       "      <td>4.750000</td>\n",
       "      <td>Poor</td>\n",
       "    </tr>\n",
       "  </tbody>\n",
       "</table>\n",
       "<p>2692 rows × 7 columns</p>\n",
       "</div>"
      ],
      "text/plain": [
       "                 High        Low       Open      Close    Volume  Adj Close  \\\n",
       "Date                                                                          \n",
       "2010-01-04  68.230003  65.639999  68.160004  65.930000  20035800  65.930000   \n",
       "2010-01-05  67.169998  64.930000  66.959999  65.800003  22082200  65.800003   \n",
       "2010-01-06  65.809998  64.400002  65.730003  65.400002  16697900  65.400002   \n",
       "2010-01-07  66.260002  64.940002  65.389999  65.300003  11302000  65.300003   \n",
       "2010-01-08  65.849998  64.860001  65.059998  65.459999  10639100  65.459999   \n",
       "...               ...        ...        ...        ...       ...        ...   \n",
       "2020-09-04   5.200000   4.870000   5.070000   5.110000   5839600   5.110000   \n",
       "2020-09-08   5.100000   4.910000   4.940000   4.930000   3747400   4.930000   \n",
       "2020-09-09   5.060000   4.910000   5.030000   4.920000   3597600   4.920000   \n",
       "2020-09-10   4.980000   4.790000   4.960000   4.800000   3545900   4.800000   \n",
       "2020-09-11   4.870000   4.680000   4.860000   4.750000   3689900   4.750000   \n",
       "\n",
       "              Label  \n",
       "Date                 \n",
       "2010-01-04  Stellar  \n",
       "2010-01-05  Stellar  \n",
       "2010-01-06  Stellar  \n",
       "2010-01-07  Stellar  \n",
       "2010-01-08  Stellar  \n",
       "...             ...  \n",
       "2020-09-04     Poor  \n",
       "2020-09-08     Poor  \n",
       "2020-09-09     Poor  \n",
       "2020-09-10     Poor  \n",
       "2020-09-11     Poor  \n",
       "\n",
       "[2692 rows x 7 columns]"
      ]
     },
     "execution_count": 37,
     "metadata": {},
     "output_type": "execute_result"
    }
   ],
   "source": [
    "bb"
   ]
  },
  {
   "cell_type": "code",
   "execution_count": 40,
   "metadata": {},
   "outputs": [
    {
     "data": {
      "text/plain": [
       "<AxesSubplot:>"
      ]
     },
     "execution_count": 40,
     "metadata": {},
     "output_type": "execute_result"
    },
    {
     "data": {
      "image/png": "[encoded data removed]",
      "text/plain": [
       "<Figure size 432x288 with 1 Axes>"
      ]
     },
     "metadata": {},
     "output_type": "display_data"
    }
   ],
   "source": [
    "bb['Label'].value_counts().plot(kind='bar')"
   ]
  },
  {
   "cell_type": "code",
   "execution_count": 41,
   "metadata": {},
   "outputs": [
    {
     "data": {
      "text/plain": [
       "<AxesSubplot:>"
      ]
     },
     "execution_count": 41,
     "metadata": {},
     "output_type": "execute_result"
    },
    {
     "data": {
      "image/png": "[encoded data removed]",
      "text/plain": [
       "<Figure size 432x288 with 1 Axes>"
      ]
     },
     "metadata": {},
     "output_type": "display_data"
    }
   ],
   "source": [
    "bb['Label'].value_counts().plot(kind='barh')"
   ]
  },
  {
   "cell_type": "markdown",
   "metadata": {},
   "source": [
    "# pie chart"
   ]
  },
  {
   "cell_type": "code",
   "execution_count": 43,
   "metadata": {},
   "outputs": [
    {
     "data": {
      "text/plain": [
       "16.501370725093235"
      ]
     },
     "execution_count": 43,
     "metadata": {},
     "output_type": "execute_result"
    }
   ],
   "source": [
    "bb['Close'].mean()"
   ]
  },
  {
   "cell_type": "code",
   "execution_count": 44,
   "metadata": {},
   "outputs": [],
   "source": [
    "def above_avrg(value):\n",
    "    if value < 16.501370725093235:\n",
    "        return 'below average'\n",
    "    elif value > 16.501370725093235:\n",
    "        return 'above average'\n",
    "    else:\n",
    "        return 'on average'"
   ]
  },
  {
   "cell_type": "code",
   "execution_count": 54,
   "metadata": {},
   "outputs": [],
   "source": [
    "plt.style.use('tableau-colorblind10')"
   ]
  },
  {
   "cell_type": "code",
   "execution_count": 55,
   "metadata": {},
   "outputs": [
    {
     "data": {
      "text/plain": [
       "<AxesSubplot:ylabel='Close'>"
      ]
     },
     "execution_count": 55,
     "metadata": {},
     "output_type": "execute_result"
    },
    {
     "data": {
      "image/png": "[encoded data removed]",
      "text/plain": [
       "<Figure size 748.8x514.8 with 1 Axes>"
      ]
     },
     "metadata": {},
     "output_type": "display_data"
    }
   ],
   "source": [
    "bb['Close'].apply(above_avrg).value_counts().plot(kind='pie',legend=True)"
   ]
  },
  {
   "cell_type": "raw",
   "metadata": {},
   "source": []
  }
 ],
 "metadata": {
  "kernelspec": {
   "display_name": "Python 3",
   "language": "python",
   "name": "python3"
  },
  "language_info": {
   "codemirror_mode": {
    "name": "ipython",
    "version": 3
   },
   "file_extension": ".py",
   "mimetype": "text/x-python",
   "name": "python",
   "nbconvert_exporter": "python",
   "pygments_lexer": "ipython3",
   "version": "3.8.3"
  }
 },
 "nbformat": 4,
 "nbformat_minor": 4
}
